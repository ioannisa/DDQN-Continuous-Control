{
 "cells": [
  {
   "cell_type": "markdown",
   "metadata": {},
   "source": [
    "# Continuous Control with 20 Agents\n",
    "\n",
    "---\n",
    "\n",
    "In this notebook, you will learn how to use the Unity ML-Agents environment for the second project of the [Deep Reinforcement Learning Nanodegree](https://www.udacity.com/course/deep-reinforcement-learning-nanodegree--nd893) program.\n",
    "\n",
    "### 1. Start the Environment\n",
    "\n",
    "We begin by importing the necessary packages.  If the code cell below returns an error, please revisit the project instructions to double-check that you have installed [Unity ML-Agents](https://github.com/Unity-Technologies/ml-agents/blob/master/docs/Installation.md) and [NumPy](http://www.numpy.org/)."
   ]
  },
  {
   "cell_type": "code",
   "execution_count": 1,
   "metadata": {},
   "outputs": [],
   "source": [
    "from unityagents import UnityEnvironment\n",
    "import numpy as np"
   ]
  },
  {
   "cell_type": "markdown",
   "metadata": {},
   "source": [
    "Next, we will start the environment!  **_Before running the code cell below_**, change the `file_name` parameter to match the location of the Unity environment that you downloaded.\n",
    "\n",
    "- **Mac**: `\"path/to/Reacher.app\"`\n",
    "- **Windows** (x86): `\"path/to/Reacher_Windows_x86/Reacher.exe\"`\n",
    "- **Windows** (x86_64): `\"path/to/Reacher_Windows_x86_64/Reacher.exe\"`\n",
    "- **Linux** (x86): `\"path/to/Reacher_Linux/Reacher.x86\"`\n",
    "- **Linux** (x86_64): `\"path/to/Reacher_Linux/Reacher.x86_64\"`\n",
    "- **Linux** (x86, headless): `\"path/to/Reacher_Linux_NoVis/Reacher.x86\"`\n",
    "- **Linux** (x86_64, headless): `\"path/to/Reacher_Linux_NoVis/Reacher.x86_64\"`\n",
    "\n",
    "For instance, if you are using a Mac, then you downloaded `Reacher.app`.  If this file is in the same folder as the notebook, then the line below should appear as follows:\n",
    "```\n",
    "env = UnityEnvironment(file_name=\"Reacher.app\")\n",
    "```\n",
    "\n",
    "#### Loading the Environment\n",
    "\n",
    "* **01 AGENTS Environment:** `Reacher_01_Windows_x86_64/Reacher.exe`\n",
    "* **20 AGENTS Environment:** `Reacher_20_Windows_x86_64/Reacher.exe`\n",
    "\n",
    "The only difference between ths 1 agent and the 20 agent notebooks is calling the equivalent environment path. Everything else is (including hyperparams and neural network architectures) are totally identical."
   ]
  },
  {
   "cell_type": "code",
   "execution_count": 2,
   "metadata": {},
   "outputs": [
    {
     "name": "stderr",
     "output_type": "stream",
     "text": [
      "INFO:unityagents:\n",
      "'Academy' started successfully!\n",
      "Unity Academy name: Academy\n",
      "        Number of Brains: 1\n",
      "        Number of External Brains : 1\n",
      "        Lesson number : 0\n",
      "        Reset Parameters :\n",
      "\t\tgoal_speed -> 1.0\n",
      "\t\tgoal_size -> 5.0\n",
      "Unity brain name: ReacherBrain\n",
      "        Number of Visual Observations (per agent): 0\n",
      "        Vector Observation space type: continuous\n",
      "        Vector Observation space size (per agent): 33\n",
      "        Number of stacked Vector Observation: 1\n",
      "        Vector Action space type: continuous\n",
      "        Vector Action space size (per agent): 4\n",
      "        Vector Action descriptions: , , , \n"
     ]
    }
   ],
   "source": [
    "UNITY_PATH_01_AGENTS = 'Reacher_01_Windows_x86_64/Reacher.exe'\n",
    "UNITY_PATH_20_AGENTS = 'Reacher_20_Windows_x86_64/Reacher.exe'\n",
    "\n",
    "env = UnityEnvironment(file_name = UNITY_PATH_20_AGENTS)"
   ]
  },
  {
   "cell_type": "markdown",
   "metadata": {},
   "source": [
    "Environments contain **_brains_** which are responsible for deciding the actions of their associated agents. Here we check for the first brain available, and set it as the default brain we will be controlling from Python."
   ]
  },
  {
   "cell_type": "code",
   "execution_count": 3,
   "metadata": {},
   "outputs": [],
   "source": [
    "# get the default brain\n",
    "brain_name = env.brain_names[0]\n",
    "brain = env.brains[brain_name]"
   ]
  },
  {
   "cell_type": "markdown",
   "metadata": {},
   "source": [
    "### 2. Examine the State and Action Spaces\n",
    "\n",
    "In this environment, a double-jointed arm can move to target locations. A reward of `+0.1` is provided for each step that the agent's hand is in the goal location. Thus, the goal of your agent is to maintain its position at the target location for as many time steps as possible.\n",
    "\n",
    "The observation space consists of `33` variables corresponding to position, rotation, velocity, and angular velocities of the arm.  Each action is a vector with four numbers, corresponding to torque applicable to two joints.  Every entry in the action vector must be a number between `-1` and `1`.\n",
    "\n",
    "Run the code cell below to print some information about the environment."
   ]
  },
  {
   "cell_type": "code",
   "execution_count": 4,
   "metadata": {},
   "outputs": [
    {
     "name": "stdout",
     "output_type": "stream",
     "text": [
      "Number of agents: 20\n",
      "Size of each action: 4\n",
      "There are 20 agents. Each observes a state with length: 33\n",
      "The state for the first agent looks like: [ 0.00000000e+00 -4.00000000e+00  0.00000000e+00  1.00000000e+00\n",
      " -0.00000000e+00 -0.00000000e+00 -4.37113883e-08  0.00000000e+00\n",
      "  0.00000000e+00  0.00000000e+00  0.00000000e+00  0.00000000e+00\n",
      "  0.00000000e+00  0.00000000e+00 -1.00000000e+01  0.00000000e+00\n",
      "  1.00000000e+00 -0.00000000e+00 -0.00000000e+00 -4.37113883e-08\n",
      "  0.00000000e+00  0.00000000e+00  0.00000000e+00  0.00000000e+00\n",
      "  0.00000000e+00  0.00000000e+00  5.75471878e+00 -1.00000000e+00\n",
      "  5.55726624e+00  0.00000000e+00  1.00000000e+00  0.00000000e+00\n",
      " -1.68164849e-01]\n"
     ]
    }
   ],
   "source": [
    "# reset the environment\n",
    "env_info = env.reset(train_mode=True)[brain_name]\n",
    "\n",
    "# number of agents\n",
    "num_agents = len(env_info.agents)\n",
    "print('Number of agents:', num_agents)\n",
    "\n",
    "# size of each action\n",
    "action_size = brain.vector_action_space_size\n",
    "print('Size of each action:', action_size)\n",
    "\n",
    "# examine the state space \n",
    "states = env_info.vector_observations\n",
    "state_size = states.shape[1]\n",
    "print('There are {} agents. Each observes a state with length: {}'.format(states.shape[0], state_size))\n",
    "print('The state for the first agent looks like:', states[0])"
   ]
  },
  {
   "cell_type": "markdown",
   "metadata": {},
   "source": [
    "### 3. Take Actions on the Environment (Play the game)\n",
    "\n",
    "In the next code cell, you will learn how to use the Python API to control the agent and receive feedback from the environment.\n",
    "\n",
    "The bellow cell defines a function called `play_game` which executes agent(s) actions at the environment by either choosing random actions or choosing actions based on the actor neural network estimations. \n",
    "\n",
    "There are two playing modes. One is choosing random actions (`random_actions=True`) and the other is by choosing actions based on the actor neural network (`random_actions=False`)."
   ]
  },
  {
   "cell_type": "code",
   "execution_count": 5,
   "metadata": {},
   "outputs": [],
   "source": [
    "def play_game(random_actions=True):\n",
    "    env_info = env.reset(train_mode=False)[brain_name]     # reset the environment    \n",
    "    states = env_info.vector_observations                  # get the current state (for each agent)\n",
    "    scores = np.zeros(num_agents)                          # initialize the score (for each agent)\n",
    "    while True:\n",
    "        if random_actions:\n",
    "            actions = np.random.randn(num_agents, action_size) # select an action (for each agent)\n",
    "            actions = np.clip(actions, -1, 1)                  # all actions between -1 and 1\n",
    "        else:\n",
    "            actions = agent.act(states, add_noise=False)       # no noise when playing demo game ;)\n",
    "        env_info = env.step(actions)[brain_name]               # send all actions to tne environment\n",
    "        next_states = env_info.vector_observations             # get next state (for each agent)\n",
    "        rewards = env_info.rewards                             # get reward (for each agent)\n",
    "        dones = env_info.local_done                            # see if episode finished\n",
    "        scores += env_info.rewards                             # update the score (for each agent)\n",
    "        states = next_states                                   # roll over states to next time step\n",
    "        \n",
    "        print('\\rReal time score (averaged over {} agents) for this episode: {}'.\n",
    "              format(num_agents, np.mean(scores)), end=\"\")\n",
    "        \n",
    "        if np.any(dones):                                      # exit loop if episode finished\n",
    "            break\n",
    "\n",
    "    print('\\rFinal Reacher Score (averaged over {} agents) for this episode: {}'.\n",
    "              format(num_agents, np.mean(scores)), end=\"\")"
   ]
  },
  {
   "cell_type": "markdown",
   "metadata": {},
   "source": [
    "#### Play a random game\n",
    "Lets play a random game by selecting random actions for each state and see how it goes. Keep in mind that the score should be normally zero, or slightly positive if by \"accident\" the mechanical arm touches the ball using random actions."
   ]
  },
  {
   "cell_type": "code",
   "execution_count": 6,
   "metadata": {},
   "outputs": [
    {
     "name": "stdout",
     "output_type": "stream",
     "text": [
      "Final Reacher Score (averaged over 20 agents) for this episode: 0.2009999955072999"
     ]
    }
   ],
   "source": [
    "play_game(random_actions=True)"
   ]
  },
  {
   "cell_type": "markdown",
   "metadata": {},
   "source": [
    "### 4. Time to put some intelligence in action\n",
    "\n",
    "Now it's time to train our agent to solve the environment!  When training the environment, we set `train_mode=True`, so that the line for resetting the environment looks like the following:\n",
    "```python\n",
    "env_info = env.reset(train_mode=True)[brain_name]\n",
    "```\n",
    "\n",
    "We will be importing the model found at `model.py` and the agent found at `ddpg_agent.py` files."
   ]
  },
  {
   "cell_type": "code",
   "execution_count": 7,
   "metadata": {},
   "outputs": [
    {
     "name": "stdout",
     "output_type": "stream",
     "text": [
      "state_size 33\n",
      "action_size 4\n"
     ]
    }
   ],
   "source": [
    "from ddpg_agent import Agent\n",
    "from collections import namedtuple, deque\n",
    "import torch\n",
    "\n",
    "print(\"state_size\",state_size)\n",
    "print(\"action_size\",action_size)\n",
    "\n",
    "agent = Agent(state_size=state_size, action_size=action_size, random_seed=5)"
   ]
  },
  {
   "cell_type": "markdown",
   "metadata": {},
   "source": [
    "#### Play a game on untrained network\n",
    "\n",
    "We have an intelligent architecture, but despite the sophistication of the architecture, the neural networks weights are just random. Such a setup, but with random weights should give similar results to the \"random actions\".  Sad, but true.\n",
    "\n",
    "Lets play a game, but this time using our neural network that (for now) has untrained weights. So let's now watch an untrained agent."
   ]
  },
  {
   "cell_type": "code",
   "execution_count": 8,
   "metadata": {},
   "outputs": [
    {
     "name": "stdout",
     "output_type": "stream",
     "text": [
      "Final Reacher Score (averaged over 20 agents) for this episode: 0.0"
     ]
    }
   ],
   "source": [
    "play_game(random_actions=False)"
   ]
  },
  {
   "cell_type": "markdown",
   "metadata": {},
   "source": [
    "### Training the Agent \n",
    "\n",
    "**We will use a  Deep Deterministic Policy Gradients (DDPG) algorithm**\n",
    "\n",
    "We will be working with full episode trajectories.\n",
    "\n",
    "At each episode we will be executing agent actions by calling `agent.act` and wee will be saving SARS results to the memory. \n",
    "\n",
    "Instead of updating the actor and critic networks 1 or 20 times at every timestep (depending on the actors count), we amended the code to update the networks **10 times** after every **20 timesteps**. This provided much better stability during training.\n",
    "\n",
    "We will be returning two lists containing scores.\n",
    "* `avg_episode_scores` will return the average actors score for each distinct episode\n",
    "* `avg_100deque_scores` will return the average actors score over the last 100 episodes\n",
    "\n",
    "The method will terminate after 1000 episodes, or when the `avg_100deque_scores` accumulates score of 30 or more for the last 100 episodes.\n",
    "\n",
    "If the method terminates by accumulating score of 30 or more at the `avg_100deque_scores` we will be saving a file containing the weights checkpoint for the `actor` and the `critic` neural networks."
   ]
  },
  {
   "cell_type": "code",
   "execution_count": 9,
   "metadata": {},
   "outputs": [],
   "source": [
    "NUM_UPDATES  = 10 # update the network 10 times\n",
    "UPDATE_EVERY = 20 # after every 20 timesteps \n",
    "\n",
    "def ddpg(n_episodes=1000, print_every=10, average_per_x_episodes=100):\n",
    "    print('Approach using {} agents: '.format(num_agents))\n",
    "    \n",
    "    scores_deque = deque(maxlen=average_per_x_episodes)      # populated by 100 episodes (for mean of 100 episodes)\n",
    "    avg_episode_scores = [] \n",
    "    avg_100deque_scores = []\n",
    "    \n",
    "    for i_episode in range(1, n_episodes+1):\n",
    "        env_info = env.reset(train_mode=True)[brain_name]    # reset the environment\n",
    "        agent.reset()\n",
    "        scores = np.zeros(num_agents)       \n",
    "        states = env_info.vector_observations                # get the current state (for each agent)\n",
    "        count = 0     \n",
    "\n",
    "        while True:\n",
    "            count += 1\n",
    "            actions = agent.act(states, add_noise=True)\n",
    "            env_info = env.step(actions)[brain_name]         # send all actions to the environment\n",
    "            next_states = env_info.vector_observations       # get next state (for each agent)\n",
    "            rewards = env_info.rewards                       # get reward (for each agent)\n",
    "            dones = env_info.local_done                      # see if episode finished\n",
    "\n",
    "            # Store the SARS to the memory\n",
    "            for i in range(0, num_agents):\n",
    "                agent.add_sars_to_memory(states[i], actions[i], rewards[i], next_states[i], dones[i])\n",
    "\n",
    "            # After 20 steps, make 10 updates\n",
    "            agent.learn_by_memory(current_step=count, update_every_x_steps=UPDATE_EVERY, num_of_updates=NUM_UPDATES)\n",
    "             \n",
    "            scores += rewards\n",
    "            states = next_states\n",
    "            if np.any(dones):\n",
    "                break\n",
    "\n",
    "        score = np.mean(scores)            # the score of the episode will be the average of all agent's scores\n",
    "        scores_deque.append(score)         # add the score to the 100 episodes deque\n",
    "        \n",
    "        avg_episode_scores.append(score)    # add the score to the total episodes deque\n",
    "        avg_100deque_scores.append(np.mean(scores_deque))\n",
    "\n",
    "        print('\\rEpisode {}\\tAverage Score: {:.2f}'.format(i_episode, np.mean(scores_deque)), end=\"\")\n",
    "        if i_episode % print_every == 0:\n",
    "            print('\\rEpisode {}\\tAverage Score: {:.2f}'.format(i_episode, np.mean(scores_deque)))\n",
    "        if np.mean(scores_deque) >= 30.0:\n",
    "            print('\\n Environment solved in {:d} episodes!\\tAverage Score: {:.2f}'.format(i_episode, np.mean(scores_deque)))\n",
    "            torch.save(agent.actor_local.state_dict(), 'checkpoint_actor_20_agent.pth')\n",
    "            torch.save(agent.critic_local.state_dict(), 'checkpoint_critic_20_agent.pth')\n",
    "            break   \n",
    "    return avg_episode_scores, avg_100deque_scores"
   ]
  },
  {
   "cell_type": "code",
   "execution_count": 10,
   "metadata": {},
   "outputs": [
    {
     "name": "stdout",
     "output_type": "stream",
     "text": [
      "Approach using 20 agents: \n",
      "Episode 10\tAverage Score: 0.92\n",
      "Episode 20\tAverage Score: 3.13\n",
      "Episode 30\tAverage Score: 7.61\n",
      "Episode 40\tAverage Score: 10.87\n",
      "Episode 50\tAverage Score: 14.44\n",
      "Episode 60\tAverage Score: 17.42\n",
      "Episode 70\tAverage Score: 20.03\n",
      "Episode 80\tAverage Score: 22.22\n",
      "Episode 90\tAverage Score: 23.66\n",
      "Episode 100\tAverage Score: 25.17\n",
      "Episode 110\tAverage Score: 28.86\n",
      "Episode 114\tAverage Score: 30.24\n",
      " Environment solved in 114 episodes!\tAverage Score: 30.24\n"
     ]
    }
   ],
   "source": [
    "avg_episode_scores, avg_100deque_scores = ddpg()"
   ]
  },
  {
   "cell_type": "markdown",
   "metadata": {},
   "source": [
    "#### Plot the scores\n",
    "\n",
    "The bellow function takes a list and plots it"
   ]
  },
  {
   "cell_type": "code",
   "execution_count": 11,
   "metadata": {},
   "outputs": [],
   "source": [
    "import matplotlib.pyplot as plt\n",
    "%matplotlib inline\n",
    "\n",
    "def plot_list(list):\n",
    "    fig = plt.figure()\n",
    "    ax = fig.add_subplot(111)\n",
    "    plt.plot(np.arange(1, len(list)+1), list)\n",
    "    plt.ylabel('Score')\n",
    "    plt.xlabel('Episode #')\n",
    "    plt.show()"
   ]
  },
  {
   "cell_type": "markdown",
   "metadata": {},
   "source": [
    "#### List: Print the mean score per 100 episodes\n",
    "\n",
    "Print the deque results of the mean based on the last 100 episodes all the way from the first episode to the last, and then plot these results"
   ]
  },
  {
   "cell_type": "code",
   "execution_count": 12,
   "metadata": {},
   "outputs": [
    {
     "name": "stdout",
     "output_type": "stream",
     "text": [
      "[0.824999981559813, 0.80524998200126, 0.7551666497873764, 0.7839999824762345, 0.804399982020259, 0.8309999814257026, 0.8574285522635494, 0.8550624808878637, 0.8922777578338152, 0.9206999794207513, 1.0044090684587983, 1.079374975874089, 1.1876153580701123, 1.3042856851326567, 1.5846999645791948, 1.8359062089642975, 2.0889411297791143, 2.4133888349454433, 2.893131514280838, 3.1311749300127842, 3.671857060784739, 4.130863544031638, 4.767325980398479, 5.228541549799654, 5.620779874365777, 6.131749862944707, 6.608944296723024, 7.0187855574036275, 7.281258457940842, 7.608783163263772, 7.797112728946752, 8.052968570002122, 8.575969505281837, 9.082455679344232, 9.408385503991905, 9.55891645300823, 9.877013292745056, 10.176341877804186, 10.528538226207287, 10.873074756967835, 11.09771926414176, 11.45891641053992, 11.894802059711845, 12.382920177765614, 12.738188604168181, 13.054706229943703, 13.41335076401803, 13.796833024950077, 14.159030295765902, 14.440319677233697, 14.697705553833615, 15.04736504828056, 15.37637701480175, 15.704916315634424, 16.00094509689645, 16.34574963464402, 16.566639980583926, 16.84462031314856, 17.153770803024013, 17.415407944068626, 17.66122911343748, 17.94469314729194, 18.253364671370576, 18.519218336063204, 18.794284195299618, 19.06460563447891, 19.334521955899447, 19.550992210060084, 19.781267673796233, 20.02506383811922, 20.261175603465453, 20.493930097480515, 20.74310912539647, 20.961614396336262, 21.18125285989543, 21.406144258377488, 21.59231769919226, 21.807749512558804, 22.017170393953833, 22.216962003412192, 22.429166165335726, 22.619993396842762, 22.808975393794118, 22.99227329560644, 23.18162889361491, 23.281639014498527, 23.28957419208112, 23.355277887059756, 23.517072508060323, 23.656393915682823, 23.805428039335776, 23.966244029530078, 24.127698385435085, 24.279148393488946, 24.433778401230906, 24.5909942420151, 24.739148931573002, 24.886887198836753, 25.02784792543248, 25.166739437479528, 25.550384428904394, 25.930694420403807, 26.313674411843536, 26.683794403570705, 27.062164395113477, 27.427404386949725, 27.771129379266867, 28.137979371067132, 28.51200436270702, 28.86181435488816, 29.20340434725303, 29.548469339540226, 29.904569331580774, 30.23760432413686]\n"
     ]
    },
    {
     "data": {
      "image/png": "[encoded data removed]",
      "text/plain": [
       "<Figure size 432x288 with 1 Axes>"
      ]
     },
     "metadata": {
      "needs_background": "light"
     },
     "output_type": "display_data"
    }
   ],
   "source": [
    "print(avg_100deque_scores)\n",
    "plot_list(avg_100deque_scores)"
   ]
  },
  {
   "cell_type": "markdown",
   "metadata": {},
   "source": [
    "#### List: Print the mean score per episodes\n",
    "\n",
    "Print the list with the results of the mean agents score per episode, all the way from the first episode to the last, and then plot these results"
   ]
  },
  {
   "cell_type": "code",
   "execution_count": 13,
   "metadata": {},
   "outputs": [
    {
     "name": "stdout",
     "output_type": "stream",
     "text": [
      "[0.824999981559813, 0.7854999824427068, 0.6549999853596091, 0.8704999805428087, 0.8859999801963567, 0.963999978452921, 1.0159999772906303, 0.8384999812580645, 1.1899999734014273, 1.1764999737031758, 1.8414999588392675, 1.9039999574422837, 2.486499944422394, 2.8209999369457366, 5.5104998768307265, 5.603999874740839, 6.137499862816185, 7.928999822773039, 11.528499742317944, 7.653999828919768, 14.485499676223844, 13.769999692216516, 18.76949958046898, 15.836499646026642, 15.034499663952738, 18.90599957741797, 19.015999574959277, 18.084499595779924, 14.630499672982841, 17.10699961762875, 13.446999699436128, 15.984499642718584, 25.31199943423271, 25.796499423403294, 20.48999954201281, 14.827499668579549, 21.328499523270875, 21.25149952499196, 23.91199946552515, 24.309999456629157, 20.083499551098793, 26.267999412864448, 30.201999324932693, 33.37199925407767, 28.369999365881085, 27.297999389842154, 29.91099933143705, 31.8204992887564, 31.54449929492548, 28.223499369155615, 27.566999383829533, 32.87999926507473, 32.48499927390367, 33.11749925976619, 31.986499285046012, 35.30999921076, 28.936499353218824, 32.689499269332735, 35.084499215800314, 32.85199926570058, 32.410499275568874, 35.23599921241403, 37.390999164246026, 35.26799921169877, 36.39849918643013, 36.635499181132765, 37.14899916965514, 34.05449923882261, 35.43999920785427, 36.84699917640537, 36.78899917770177, 37.01949917254969, 38.68399913534522, 36.91249917494133, 37.43449916327372, 38.27299914453179, 35.74149920111522, 38.395999141782525, 38.351999142766, 38.00049915062264, 39.40549911921844, 38.076999148912726, 38.305499143805356, 38.205999146029356, 39.08749912632629, 31.782499289605767, 23.971999464184044, 29.07149935020134, 37.75499915610999, 36.0559991940856, 37.2184991681017, 38.60049913721159, 38.981499128695575, 38.363999142497775, 38.96899912897497, 39.526499116513875, 38.961999129131435, 39.217499123420566, 38.841999131813644, 38.91699913013726, 39.189499124046414, 38.81649913238361, 38.9529991293326, 37.88249915326014, 38.722999134473504, 37.487999162077905, 35.38849920900539, 37.52349916128442, 38.592499137390405, 36.157499191816896, 36.00049919532612, 36.41049918616191, 38.096499148476866, 36.1244991925545]\n"
     ]
    },
    {
     "data": {
      "image/png": "[encoded data removed]",
      "text/plain": [
       "<Figure size 432x288 with 1 Axes>"
      ]
     },
     "metadata": {
      "needs_background": "light"
     },
     "output_type": "display_data"
    }
   ],
   "source": [
    "print(avg_episode_scores)\n",
    "plot_list(avg_episode_scores)"
   ]
  },
  {
   "cell_type": "markdown",
   "metadata": {},
   "source": [
    "#### Load the weights checkpoints for the neural networks\n",
    "\n",
    "Incase you want to use the resulted weights based on visualization of the data above, please do run the cell bellow to restore the weights configurations for the actor and critic neural networks."
   ]
  },
  {
   "cell_type": "code",
   "execution_count": 14,
   "metadata": {},
   "outputs": [],
   "source": [
    "agent.actor_local.load_state_dict(torch.load('checkpoint_actor_20_agents.pth'))\n",
    "agent.critic_local.load_state_dict(torch.load('checkpoint_critic_20_agents.pth'))"
   ]
  },
  {
   "cell_type": "markdown",
   "metadata": {},
   "source": [
    "#### Play a game on trained network - Watch a smart agent\n",
    "We will play again the game using the neural network, but this time based on the trained neural networks. Now, lets watch a \"smart agent\"!"
   ]
  },
  {
   "cell_type": "code",
   "execution_count": 15,
   "metadata": {},
   "outputs": [
    {
     "name": "stdout",
     "output_type": "stream",
     "text": [
      "Final Reacher Score (averaged over 20 agents) for this episode: 34.55499922763556"
     ]
    }
   ],
   "source": [
    "play_game(random_actions=False)"
   ]
  },
  {
   "cell_type": "markdown",
   "metadata": {},
   "source": [
    "#### Terminate the Unity environment\n",
    "\n",
    "Call the `env.close` to terminate the unity environment"
   ]
  },
  {
   "cell_type": "code",
   "execution_count": 16,
   "metadata": {},
   "outputs": [],
   "source": [
    "env.close()"
   ]
  },
  {
   "cell_type": "markdown",
   "metadata": {},
   "source": [
    "### 5. Further Refinements\n",
    "\n",
    "It appears that the DDPG algorithm is heavily dependant on the hyperparameters, and even slight changes can produce way different results, especially when using the 1 Agent approach.\n",
    "\n",
    "Utilizing the PPO or A3C instead could possibly provide more stable results during training."
   ]
  }
 ],
 "metadata": {
  "kernelspec": {
   "display_name": "Python 3",
   "language": "python",
   "name": "python3"
  },
  "language_info": {
   "codemirror_mode": {
    "name": "ipython",
    "version": 3
   },
   "file_extension": ".py",
   "mimetype": "text/x-python",
   "name": "python",
   "nbconvert_exporter": "python",
   "pygments_lexer": "ipython3",
   "version": "3.6.7"
  }
 },
 "nbformat": 4,
 "nbformat_minor": 2
}
