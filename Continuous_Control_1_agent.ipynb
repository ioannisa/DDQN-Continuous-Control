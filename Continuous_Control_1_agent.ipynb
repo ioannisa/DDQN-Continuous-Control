{
 "cells": [
  {
   "cell_type": "markdown",
   "metadata": {},
   "source": [
    "# Continuous Control with 1 Agent\n",
    "\n",
    "---\n",
    "\n",
    "In this notebook, you will learn how to use the Unity ML-Agents environment for the second project of the [Deep Reinforcement Learning Nanodegree](https://www.udacity.com/course/deep-reinforcement-learning-nanodegree--nd893) program.\n",
    "\n",
    "### 1. Start the Environment\n",
    "\n",
    "We begin by importing the necessary packages.  If the code cell below returns an error, please revisit the project instructions to double-check that you have installed [Unity ML-Agents](https://github.com/Unity-Technologies/ml-agents/blob/master/docs/Installation.md) and [NumPy](http://www.numpy.org/)."
   ]
  },
  {
   "cell_type": "code",
   "execution_count": 1,
   "metadata": {},
   "outputs": [],
   "source": [
    "from unityagents import UnityEnvironment\n",
    "import numpy as np"
   ]
  },
  {
   "cell_type": "markdown",
   "metadata": {},
   "source": [
    "Next, we will start the environment!  **_Before running the code cell below_**, change the `file_name` parameter to match the location of the Unity environment that you downloaded.\n",
    "\n",
    "- **Mac**: `\"path/to/Reacher.app\"`\n",
    "- **Windows** (x86): `\"path/to/Reacher_Windows_x86/Reacher.exe\"`\n",
    "- **Windows** (x86_64): `\"path/to/Reacher_Windows_x86_64/Reacher.exe\"`\n",
    "- **Linux** (x86): `\"path/to/Reacher_Linux/Reacher.x86\"`\n",
    "- **Linux** (x86_64): `\"path/to/Reacher_Linux/Reacher.x86_64\"`\n",
    "- **Linux** (x86, headless): `\"path/to/Reacher_Linux_NoVis/Reacher.x86\"`\n",
    "- **Linux** (x86_64, headless): `\"path/to/Reacher_Linux_NoVis/Reacher.x86_64\"`\n",
    "\n",
    "For instance, if you are using a Mac, then you downloaded `Reacher.app`.  If this file is in the same folder as the notebook, then the line below should appear as follows:\n",
    "```\n",
    "env = UnityEnvironment(file_name=\"Reacher.app\")\n",
    "```\n",
    "\n",
    "#### Loading the Environment\n",
    "\n",
    "* **01 AGENTS Environment:** `Reacher_01_Windows_x86_64/Reacher.exe`\n",
    "* **20 AGENTS Environment:** `Reacher_20_Windows_x86_64/Reacher.exe`\n",
    "\n",
    "The only difference between ths 1 agent and the 20 agent notebooks is calling the equivalent environment path. Everything else is (including hyperparams and neural network architectures) are totally identical."
   ]
  },
  {
   "cell_type": "code",
   "execution_count": 2,
   "metadata": {},
   "outputs": [
    {
     "name": "stderr",
     "output_type": "stream",
     "text": [
      "INFO:unityagents:\n",
      "'Academy' started successfully!\n",
      "Unity Academy name: Academy\n",
      "        Number of Brains: 1\n",
      "        Number of External Brains : 1\n",
      "        Lesson number : 0\n",
      "        Reset Parameters :\n",
      "\t\tgoal_speed -> 1.0\n",
      "\t\tgoal_size -> 5.0\n",
      "Unity brain name: ReacherBrain\n",
      "        Number of Visual Observations (per agent): 0\n",
      "        Vector Observation space type: continuous\n",
      "        Vector Observation space size (per agent): 33\n",
      "        Number of stacked Vector Observation: 1\n",
      "        Vector Action space type: continuous\n",
      "        Vector Action space size (per agent): 4\n",
      "        Vector Action descriptions: , , , \n"
     ]
    }
   ],
   "source": [
    "UNITY_PATH_01_AGENTS = 'Reacher_01_Windows_x86_64/Reacher.exe'\n",
    "UNITY_PATH_20_AGENTS = 'Reacher_20_Windows_x86_64/Reacher.exe'\n",
    "\n",
    "env = UnityEnvironment(file_name = UNITY_PATH_01_AGENTS)"
   ]
  },
  {
   "cell_type": "markdown",
   "metadata": {},
   "source": [
    "Environments contain **_brains_** which are responsible for deciding the actions of their associated agents. Here we check for the first brain available, and set it as the default brain we will be controlling from Python."
   ]
  },
  {
   "cell_type": "code",
   "execution_count": 3,
   "metadata": {},
   "outputs": [],
   "source": [
    "# get the default brain\n",
    "brain_name = env.brain_names[0]\n",
    "brain = env.brains[brain_name]"
   ]
  },
  {
   "cell_type": "markdown",
   "metadata": {},
   "source": [
    "### 2. Examine the State and Action Spaces\n",
    "\n",
    "In this environment, a double-jointed arm can move to target locations. A reward of `+0.1` is provided for each step that the agent's hand is in the goal location. Thus, the goal of your agent is to maintain its position at the target location for as many time steps as possible.\n",
    "\n",
    "The observation space consists of `33` variables corresponding to position, rotation, velocity, and angular velocities of the arm.  Each action is a vector with four numbers, corresponding to torque applicable to two joints.  Every entry in the action vector must be a number between `-1` and `1`.\n",
    "\n",
    "Run the code cell below to print some information about the environment."
   ]
  },
  {
   "cell_type": "code",
   "execution_count": 4,
   "metadata": {},
   "outputs": [
    {
     "name": "stdout",
     "output_type": "stream",
     "text": [
      "Number of agents: 1\n",
      "Size of each action: 4\n",
      "There are 1 agents. Each observes a state with length: 33\n",
      "The state for the first agent looks like: [ 0.00000000e+00 -4.00000000e+00  0.00000000e+00  1.00000000e+00\n",
      " -0.00000000e+00 -0.00000000e+00 -4.37113883e-08  0.00000000e+00\n",
      "  0.00000000e+00  0.00000000e+00  0.00000000e+00  0.00000000e+00\n",
      "  0.00000000e+00  0.00000000e+00 -1.00000000e+01  0.00000000e+00\n",
      "  1.00000000e+00 -0.00000000e+00 -0.00000000e+00 -4.37113883e-08\n",
      "  0.00000000e+00  0.00000000e+00  0.00000000e+00  0.00000000e+00\n",
      "  0.00000000e+00  0.00000000e+00  5.75471878e+00 -1.00000000e+00\n",
      "  5.55726671e+00  0.00000000e+00  1.00000000e+00  0.00000000e+00\n",
      " -1.68164849e-01]\n"
     ]
    }
   ],
   "source": [
    "# reset the environment\n",
    "env_info = env.reset(train_mode=True)[brain_name]\n",
    "\n",
    "# number of agents\n",
    "num_agents = len(env_info.agents)\n",
    "print('Number of agents:', num_agents)\n",
    "\n",
    "# size of each action\n",
    "action_size = brain.vector_action_space_size\n",
    "print('Size of each action:', action_size)\n",
    "\n",
    "# examine the state space \n",
    "states = env_info.vector_observations\n",
    "state_size = states.shape[1]\n",
    "print('There are {} agents. Each observes a state with length: {}'.format(states.shape[0], state_size))\n",
    "print('The state for the first agent looks like:', states[0])"
   ]
  },
  {
   "cell_type": "markdown",
   "metadata": {},
   "source": [
    "### 3. Take Actions on the Environment (Play the game)\n",
    "\n",
    "In the next code cell, you will learn how to use the Python API to control the agent and receive feedback from the environment.\n",
    "\n",
    "The bellow cell defines a function called `play_game` which executes agent(s) actions at the environment by either choosing random actions or choosing actions based on the actor neural network estimations. \n",
    "\n",
    "There are two playing modes. One is choosing random actions (`random_actions=True`) and the other is by choosing actions based on the actor neural network (`random_actions=False`)."
   ]
  },
  {
   "cell_type": "code",
   "execution_count": 5,
   "metadata": {},
   "outputs": [],
   "source": [
    "def play_game(random_actions=True):\n",
    "    env_info = env.reset(train_mode=False)[brain_name]     # reset the environment    \n",
    "    states = env_info.vector_observations                  # get the current state (for each agent)\n",
    "    scores = np.zeros(num_agents)                          # initialize the score (for each agent)\n",
    "    while True:\n",
    "        if random_actions:\n",
    "            actions = np.random.randn(num_agents, action_size) # select an action (for each agent)\n",
    "            actions = np.clip(actions, -1, 1)                  # all actions between -1 and 1\n",
    "        else:\n",
    "            actions = agent.act(states, add_noise=False)       # no noise when playing demo game ;)\n",
    "        env_info = env.step(actions)[brain_name]               # send all actions to tne environment\n",
    "        next_states = env_info.vector_observations             # get next state (for each agent)\n",
    "        rewards = env_info.rewards                             # get reward (for each agent)\n",
    "        dones = env_info.local_done                            # see if episode finished\n",
    "        scores += env_info.rewards                             # update the score (for each agent)\n",
    "        states = next_states                                   # roll over states to next time step\n",
    "        \n",
    "        print('\\rReal time score (averaged over {} agents) for this episode: {}'.\n",
    "              format(num_agents, np.mean(scores)), end=\"\")\n",
    "        \n",
    "        if np.any(dones):                                      # exit loop if episode finished\n",
    "            break\n",
    "\n",
    "    print('\\rFinal Reacher Score (averaged over {} agents) for this episode: {}'.\n",
    "              format(num_agents, np.mean(scores)), end=\"\")"
   ]
  },
  {
   "cell_type": "markdown",
   "metadata": {},
   "source": [
    "#### Play a random game\n",
    "Lets play a random game by selecting random actions for each state and see how it goes. Keep in mind that the score should be normally zero, or slightly positive if by \"accident\" the mechanical arm touches the ball using random actions."
   ]
  },
  {
   "cell_type": "code",
   "execution_count": 6,
   "metadata": {},
   "outputs": [
    {
     "name": "stdout",
     "output_type": "stream",
     "text": [
      "Final Reacher Score (averaged over 1 agents) for this episode: 0.19999999552965164"
     ]
    }
   ],
   "source": [
    "play_game(random_actions=True)"
   ]
  },
  {
   "cell_type": "markdown",
   "metadata": {},
   "source": [
    "### 4. Time to put some intelligence in action\n",
    "\n",
    "Now it's time to train our agent to solve the environment!  When training the environment, we set `train_mode=True`, so that the line for resetting the environment looks like the following:\n",
    "```python\n",
    "env_info = env.reset(train_mode=True)[brain_name]\n",
    "```\n",
    "\n",
    "We will be importing the model found at `model.py` and the agent found at `ddpg_agent.py` files."
   ]
  },
  {
   "cell_type": "code",
   "execution_count": 7,
   "metadata": {},
   "outputs": [
    {
     "name": "stdout",
     "output_type": "stream",
     "text": [
      "state_size 33\n",
      "action_size 4\n"
     ]
    }
   ],
   "source": [
    "from ddpg_agent import Agent\n",
    "from collections import namedtuple, deque\n",
    "import torch\n",
    "\n",
    "print(\"state_size\",state_size)\n",
    "print(\"action_size\",action_size)\n",
    "\n",
    "agent = Agent(state_size=state_size, action_size=action_size, random_seed=5)"
   ]
  },
  {
   "cell_type": "markdown",
   "metadata": {},
   "source": [
    "#### Play a game on untrained network\n",
    "\n",
    "We have an intelligent architecture, but despite the sophistication of the architecture, the neural networks weights are just random. Such a setup, but with random weights should give similar results to the \"random actions\".  Sad, but true.\n",
    "\n",
    "Lets play a game, but this time using our neural network that (for now) has untrained weights. So let's now watch an untrained agent."
   ]
  },
  {
   "cell_type": "code",
   "execution_count": 8,
   "metadata": {},
   "outputs": [
    {
     "name": "stdout",
     "output_type": "stream",
     "text": [
      "Final Reacher Score (averaged over 1 agents) for this episode: 0.0"
     ]
    }
   ],
   "source": [
    "play_game(random_actions=False)"
   ]
  },
  {
   "cell_type": "markdown",
   "metadata": {},
   "source": [
    "### Training the Agent \n",
    "\n",
    "**We will use a  Deep Deterministic Policy Gradients (DDPG) algorithm**\n",
    "\n",
    "We will be working with full episode trajectories.\n",
    "\n",
    "At each episode we will be executing agent actions by calling `agent.act` and wee will be saving SARS results to the memory. \n",
    "\n",
    "Instead of updating the actor and critic networks 1 or 20 times at every timestep (depending on the actors count), we amended the code to update the networks **10 times** after every **20 timesteps**. This provided much better stability during training.\n",
    "\n",
    "We will be returning two lists containing scores.\n",
    "* `avg_episode_scores` will return the average actors score for each distinct episode\n",
    "* `avg_100deque_scores` will return the average actors score over the last 100 episodes\n",
    "\n",
    "The method will terminate after 1000 episodes, or when the `avg_100deque_scores` accumulates score of 30 or more for the last 100 episodes.\n",
    "\n",
    "If the method terminates by accumulating score of 30 or more at the `avg_100deque_scores` we will be saving a file containing the weights checkpoint for the `actor` and the `critic` neural networks."
   ]
  },
  {
   "cell_type": "code",
   "execution_count": 9,
   "metadata": {},
   "outputs": [],
   "source": [
    "NUM_UPDATES  = 10 # update the network 10 times\n",
    "UPDATE_EVERY = 20 # after every 20 timesteps \n",
    "\n",
    "def ddpg(n_episodes=1000, print_every=10, average_per_x_episodes=100):\n",
    "    print('Approach using {} agents: '.format(num_agents))\n",
    "    \n",
    "    scores_deque = deque(maxlen=average_per_x_episodes)      # populated by 100 episodes (for mean of 100 episodes)\n",
    "    avg_episode_scores = [] \n",
    "    avg_100deque_scores = []\n",
    "    \n",
    "    for i_episode in range(1, n_episodes+1):\n",
    "        env_info = env.reset(train_mode=True)[brain_name]    # reset the environment\n",
    "        agent.reset()\n",
    "        scores = np.zeros(num_agents)       \n",
    "        states = env_info.vector_observations                # get the current state (for each agent)\n",
    "        count = 0     \n",
    "\n",
    "        while True:\n",
    "            count += 1\n",
    "            actions = agent.act(states, add_noise=True)\n",
    "            env_info = env.step(actions)[brain_name]         # send all actions to the environment\n",
    "            next_states = env_info.vector_observations       # get next state (for each agent)\n",
    "            rewards = env_info.rewards                       # get reward (for each agent)\n",
    "            dones = env_info.local_done                      # see if episode finished\n",
    "\n",
    "            # Store the SARS to the memory\n",
    "            for i in range(0, num_agents):\n",
    "                agent.add_sars_to_memory(states[i], actions[i], rewards[i], next_states[i], dones[i])\n",
    "\n",
    "            # After 20 steps, make 10 updates\n",
    "            agent.learn_by_memory(current_step=count, update_every_x_steps=UPDATE_EVERY, num_of_updates=NUM_UPDATES)\n",
    "             \n",
    "            scores += rewards\n",
    "            states = next_states\n",
    "            if np.any(dones):\n",
    "                break\n",
    "\n",
    "        score = np.mean(scores)            # the score of the episode will be the average of all agent's scores\n",
    "        scores_deque.append(score)         # add the score to the 100 episodes deque\n",
    "        \n",
    "        avg_episode_scores.append(score)    # add the score to the total episodes deque\n",
    "        avg_100deque_scores.append(np.mean(scores_deque))\n",
    "\n",
    "        print('\\rEpisode {}\\tAverage Score: {:.2f}'.format(i_episode, np.mean(scores_deque)), end=\"\")\n",
    "        if i_episode % print_every == 0:\n",
    "            print('\\rEpisode {}\\tAverage Score: {:.2f}'.format(i_episode, np.mean(scores_deque)))\n",
    "        if np.mean(scores_deque) >= 30.0:\n",
    "            print('\\n Environment solved in {:d} episodes!\\tAverage Score: {:.2f}'.format(i_episode, np.mean(scores_deque)))\n",
    "            torch.save(agent.actor_local.state_dict(), 'checkpoint_actor_1_agent.pth')\n",
    "            torch.save(agent.critic_local.state_dict(), 'checkpoint_critic_1_agent.pth')\n",
    "            break   \n",
    "    return avg_episode_scores, avg_100deque_scores"
   ]
  },
  {
   "cell_type": "code",
   "execution_count": 10,
   "metadata": {},
   "outputs": [
    {
     "name": "stdout",
     "output_type": "stream",
     "text": [
      "Approach using 1 agents: \n",
      "Episode 10\tAverage Score: 0.70\n",
      "Episode 20\tAverage Score: 0.93\n",
      "Episode 30\tAverage Score: 1.12\n",
      "Episode 40\tAverage Score: 1.34\n",
      "Episode 50\tAverage Score: 1.61\n",
      "Episode 60\tAverage Score: 1.83\n",
      "Episode 70\tAverage Score: 2.25\n",
      "Episode 80\tAverage Score: 2.31\n",
      "Episode 90\tAverage Score: 2.59\n",
      "Episode 100\tAverage Score: 2.75\n",
      "Episode 110\tAverage Score: 3.22\n",
      "Episode 120\tAverage Score: 3.69\n",
      "Episode 130\tAverage Score: 4.62\n",
      "Episode 140\tAverage Score: 5.78\n",
      "Episode 150\tAverage Score: 7.12\n",
      "Episode 160\tAverage Score: 8.34\n",
      "Episode 170\tAverage Score: 9.62\n",
      "Episode 180\tAverage Score: 10.69\n",
      "Episode 190\tAverage Score: 12.38\n",
      "Episode 200\tAverage Score: 13.72\n",
      "Episode 210\tAverage Score: 15.21\n",
      "Episode 220\tAverage Score: 16.63\n",
      "Episode 230\tAverage Score: 17.70\n",
      "Episode 240\tAverage Score: 18.65\n",
      "Episode 250\tAverage Score: 20.31\n",
      "Episode 260\tAverage Score: 21.90\n",
      "Episode 270\tAverage Score: 23.04\n",
      "Episode 280\tAverage Score: 24.62\n",
      "Episode 290\tAverage Score: 25.38\n",
      "Episode 300\tAverage Score: 26.50\n",
      "Episode 310\tAverage Score: 27.28\n",
      "Episode 320\tAverage Score: 27.97\n",
      "Episode 330\tAverage Score: 28.66\n",
      "Episode 340\tAverage Score: 29.16\n",
      "Episode 350\tAverage Score: 28.54\n",
      "Episode 360\tAverage Score: 28.68\n",
      "Episode 370\tAverage Score: 28.82\n",
      "Episode 380\tAverage Score: 29.34\n",
      "Episode 390\tAverage Score: 29.34\n",
      "Episode 400\tAverage Score: 29.79\n",
      "Episode 402\tAverage Score: 30.09\n",
      " Environment solved in 402 episodes!\tAverage Score: 30.09\n"
     ]
    }
   ],
   "source": [
    "avg_episode_scores, avg_100deque_scores = ddpg()"
   ]
  },
  {
   "cell_type": "markdown",
   "metadata": {},
   "source": [
    "#### Plot the scores\n",
    "\n",
    "The bellow function takes a list and plots it"
   ]
  },
  {
   "cell_type": "code",
   "execution_count": 11,
   "metadata": {},
   "outputs": [],
   "source": [
    "import matplotlib.pyplot as plt\n",
    "%matplotlib inline\n",
    "\n",
    "def plot_list(list):\n",
    "    fig = plt.figure()\n",
    "    ax = fig.add_subplot(111)\n",
    "    plt.plot(np.arange(1, len(list)+1), list)\n",
    "    plt.ylabel('Score')\n",
    "    plt.xlabel('Episode #')\n",
    "    plt.show()"
   ]
  },
  {
   "cell_type": "markdown",
   "metadata": {},
   "source": [
    "#### List: Print the mean score per 100 episodes\n",
    "\n",
    "Print the deque results of the mean based on the last 100 episodes all the way from the first episode to the last, and then plot these results"
   ]
  },
  {
   "cell_type": "code",
   "execution_count": 12,
   "metadata": {},
   "outputs": [
    {
     "name": "stdout",
     "output_type": "stream",
     "text": [
      "[0.25999999418854713, 0.4899999890476465, 0.7599999830126762, 0.6824999847449362, 0.6859999846667051, 0.6616666518772641, 0.6871428417840174, 0.6862499846611172, 0.7199999839067459, 0.704999984242022, 0.6445454401387409, 0.7424999834038317, 0.7023076766098921, 0.6878571274823376, 0.7186666506032149, 0.7568749830825254, 0.7752941003178849, 0.8011110932048824, 0.8715789278871134, 0.9314999791793526, 0.9066666464010874, 0.9813636144284498, 1.1043478014028592, 1.0899999756366014, 1.069599976092577, 1.0661538223234506, 1.0696296057215444, 1.0474999765865505, 1.0899999756366014, 1.116333308381339, 1.1264515877250703, 1.1665624739252962, 1.1906060339939413, 1.1929411498062752, 1.2071428301611118, 1.2769444159025118, 1.2737837553124975, 1.2676315506135947, 1.290256381416932, 1.3379999700933696, 1.3212194826635646, 1.3711904455419808, 1.4211627589322107, 1.4318181498145515, 1.469111078273919, 1.4815217060158434, 1.5180850724511323, 1.5616666317606966, 1.586734658411267, 1.6143999639153481, 1.6260783950268638, 1.665769193536387, 1.6805660001722709, 1.6677777405000396, 1.6590908720073374, 1.6799999624490738, 1.7492982065141724, 1.7927585806183775, 1.7696609773941465, 1.82849995912984, 1.8354097950409671, 1.8490322167354245, 1.8755555136336222, 1.861093708401313, 1.8569230354176118, 1.9146969269001575, 1.9302984643171528, 1.9119117219713242, 2.1246376336700674, 2.2489999497309325, 2.280422484239852, 2.2676388382032098, 2.320821865933807, 2.307567515989413, 2.2873332822074492, 2.307368369478928, 2.3580518953453797, 2.3361537939367385, 2.331012606125655, 2.3149999482557178, 2.363456737296081, 2.3620731179352576, 2.4290360902851247, 2.5152380390181426, 2.503176414637881, 2.5358138968085133, 2.534827529549085, 2.5170453982851044, 2.577190953631247, 2.5868888310674163, 2.659780160329499, 2.677391244503467, 2.7147311221167283, 2.71287227978811, 2.700315729116923, 2.7165624392800964, 2.7296906606361424, 2.759081570982781, 2.7592928676179262, 2.750599938519299, 2.8032999373413623, 2.8679999358952046, 2.8708999358303844, 2.9123999349027874, 2.9567999339103697, 3.0740999312885107, 3.1399999298155308, 3.1418999297730625, 3.173799929060042, 3.222899927962571, 3.3090999260358513, 3.322899925727397, 3.3968999240733684, 3.421699923519045, 3.4603999226540325, 3.4668999225087465, 3.4934999219141902, 3.521599921286106, 3.6860999176092446, 3.690899917501956, 3.7566999160312116, 3.924199912287295, 3.9282999121956528, 4.043199909627438, 4.095899908449501, 4.236299905311316, 4.320399903431535, 4.521499898936599, 4.6306998964957895, 4.621399896703661, 4.655099895950407, 4.644499896187336, 4.855799891464412, 4.929399889819324, 5.106799885854125, 5.28759988181293, 5.400399879291654, 5.53439987629652, 5.662999873422086, 5.777799870856106, 5.942499867174774, 6.035599865093827, 6.267999859899282, 6.35829985788092, 6.374499857518822, 6.53899985384196, 6.615899852123111, 6.858299846705049, 6.981799843944609, 7.122699840795248, 7.2256998384930196, 7.309099836628884, 7.61589982977137, 7.721099827419966, 7.835199824869632, 7.837399824820459, 7.82849982501939, 7.864899824205786, 8.25579981546849, 8.337999813631177, 8.445899811219425, 8.4797998104617, 8.504799809902906, 8.760099804196507, 8.985699799153954, 9.11759979620576, 9.39899978991598, 9.48689978795126, 9.587699785698206, 9.615599785074592, 9.680299783628435, 9.906599778570234, 9.985299776811154, 10.136899773422629, 10.499899765308946, 10.503399765230716, 10.494899765420705, 10.526799764707684, 10.55009976418689, 10.693199760988355, 10.75649975957349, 11.01509975379333, 11.064599752686918, 11.35949974609539, 11.712899738196283, 11.770799736902118, 11.961499732639641, 12.113499729242175, 12.16849972801283, 12.378499723318964, 12.483399720974267, 12.734999715350568, 12.793399714045227, 12.983099709805101, 13.124899706635624, 13.378299700971693, 13.569199696704745, 13.535499697457999, 13.56699969675392, 13.722499693278223, 13.86479969009757, 13.985199687406421, 13.989199687317013, 14.280899680797011, 14.585999673977494, 14.788799669444561, 14.88679966725409, 14.983099665101618, 15.098199662528932, 15.21379965994507, 15.46119965441525, 15.723799648545683, 15.712699648793787, 15.928799643963576, 15.90629964446649, 16.141399639211595, 16.268299636375158, 16.34929963456467, 16.352699634488673, 16.634599628187715, 16.743999625742436, 16.909999622032046, 17.197599615603686, 17.126299617197365, 17.40469961097464, 17.474499609414487, 17.619499606173484, 17.44279961012304, 17.691399604566396, 17.699899604376405, 17.707399604208767, 17.777199602648615, 17.92749959928915, 18.207399593032896, 18.232799592465163, 18.321999590471385, 18.493299586642532, 18.743599581047892, 18.636099583450704, 18.650699583124368, 18.807699579615146, 18.905599577426912, 19.001199575290084, 19.287199568897485, 19.419299565944822, 19.615899561550467, 19.88549955552444, 20.003299552891402, 20.08509955106303, 20.31029954602942, 20.46049954267219, 20.724499536771326, 20.493799541927874, 20.709899537097662, 20.970999531261622, 21.30189952386543, 21.404399521574376, 21.70219951491803, 21.67029951563105, 21.899399510510264, 22.16409950459376, 22.498999497108162, 22.5909994950518, 22.722599492110312, 22.848699489291757, 22.926599487550558, 22.77709949089214, 22.82799948975444, 22.957699486855418, 23.042799484953285, 23.052299484740942, 23.113899483364076, 23.345299478191883, 23.559799473397433, 23.260799480080603, 23.538299473877995, 23.838099467176946, 24.129699460659175, 24.460399453267456, 24.6154994498007, 24.871699444074185, 24.90939944323152, 25.14579943794757, 25.13189943825826, 25.153099437784405, 25.207799436561764, 25.38919943250716, 25.618799427375198, 25.56889942849055, 25.378599432744085, 25.53639942921698, 25.283899434860796, 25.426499431673438, 25.421599431782962, 25.636599426977337, 25.67439942613244, 25.774999423883855, 26.14439941562712, 26.450499408785255, 26.498799407705665, 26.60479940533638, 26.592499405611306, 26.942099397797136, 26.965899397265165, 26.99749939655885, 26.741399402283133, 26.9512993975915, 26.84869939988479, 27.062499395105988, 27.278199390284716, 27.209099391829223, 27.076099394802004, 27.40719938740134, 27.52029938487336, 27.504699385222047, 27.62949938243255, 27.85639937736094, 28.048599373064935, 28.14319937095046, 27.97159937478602, 28.169499370362608, 28.094999372027814, 28.120899371448903, 28.430799364522098, 28.29029936766252, 28.3346993666701, 28.442899364251645, 28.459499363880603, 28.328099366817625, 28.65789935944602, 28.859999354928732, 28.870599354691805, 28.81539935592562, 28.789299356509, 28.917799353636802, 28.798399356305598, 28.876399354562164, 28.83509935548529, 29.075999350100755, 29.155499348323794, 29.172599347941578, 29.190799347534774, 29.20059934731573, 29.16039934821427, 29.34809934401885, 29.04269935084507, 28.8037993561849, 28.76919935695827, 28.860499354917557, 28.53749936213717, 28.59619936082512, 28.543299362007527, 28.824799355715513, 28.783099356647583, 28.725599357932808, 28.706099358368665, 28.914999353699386, 28.86599935479462, 28.731199357807636, 28.680999358929693, 28.614599360413848, 28.5865993610397, 28.78829935653135, 28.75799935720861, 28.77999935671687, 28.90639935389161, 29.003699351716786, 29.249499346222727, 28.891999354213475, 28.816299355905503, 29.072599350176752, 29.017599351406098, 29.024799351245164, 28.996199351884425, 29.302699345033616, 29.375699343401937, 29.406699342709036, 29.464599341414868, 29.26589934585616, 29.344299344103785, 29.35809934379533, 29.37899934332818, 29.3632993436791, 29.1531993483752, 29.12559934899211, 29.32249934459105, 29.32229934459552, 29.024799351245164, 29.32139934461564, 29.344799344092607, 29.36209934370592, 29.71619933579117, 29.796499333996326, 29.96879933014512, 29.82179933343083, 29.85109933277592, 29.726799335554244, 29.702999336086215, 29.73169933544472, 29.78959933415055, 29.875199332237244, 30.085999327525496]\n"
     ]
    },
    {
     "data": {
      "image/png": "[encoded data removed]",
      "text/plain": [
       "<Figure size 432x288 with 1 Axes>"
      ]
     },
     "metadata": {
      "needs_background": "light"
     },
     "output_type": "display_data"
    }
   ],
   "source": [
    "print(avg_100deque_scores)\n",
    "plot_list(avg_100deque_scores)"
   ]
  },
  {
   "cell_type": "markdown",
   "metadata": {},
   "source": [
    "#### List: Print the mean score per episodes\n",
    "\n",
    "Print the list with the results of the mean agents score per episode, all the way from the first episode to the last, and then plot these results"
   ]
  },
  {
   "cell_type": "code",
   "execution_count": 13,
   "metadata": {},
   "outputs": [
    {
     "name": "stdout",
     "output_type": "stream",
     "text": [
      "[0.25999999418854713, 0.7199999839067459, 1.2999999709427357, 0.4499999899417162, 0.6999999843537807, 0.5399999879300594, 0.8399999812245369, 0.6799999848008156, 0.9899999778717756, 0.5699999872595072, 0.03999999910593033, 1.81999995931983, 0.2199999950826168, 0.4999999888241291, 1.149999974295497, 1.3299999702721834, 1.0699999760836363, 1.2399999722838402, 2.1399999521672726, 2.0699999537318945, 0.40999999083578587, 2.5499999430030584, 3.8099999148398638, 0.7599999830126762, 0.5799999870359898, 0.979999978095293, 1.1599999740719795, 0.4499999899417162, 2.2799999490380287, 1.8799999579787254, 1.4299999680370092, 2.4099999461323023, 1.959999956190586, 1.269999971613288, 1.6899999622255564, 3.7199999168515205, 1.1599999740719795, 1.0399999767541885, 2.149999951943755, 3.1999999284744263, 0.6499999854713678, 3.419999923557043, 3.519999921321869, 1.889999957755208, 3.109999930486083, 2.0399999544024467, 3.1999999284744263, 3.609999919310212, 2.7899999376386404, 2.969999933615327, 2.2099999506026506, 3.689999917522073, 2.4499999452382326, 0.9899999778717756, 1.1899999734014273, 2.8299999367445707, 5.629999874159694, 4.2699999045580626, 0.42999999038875103, 5.2999998815357685, 2.249999949708581, 2.679999940097332, 3.519999921321869, 0.9499999787658453, 1.5899999644607306, 5.669999873265624, 2.9599999338388443, 0.6799999848008156, 16.589999629184604, 10.829999757930636, 4.479999899864197, 1.3599999696016312, 6.149999862536788, 1.339999970048666, 0.789999982342124, 3.8099999148398638, 6.2099998611956835, 0.6499999854713678, 1.9299999568611383, 1.0499999765306711, 6.239999860525131, 2.249999949708581, 7.919999822974205, 9.669999783858657, 1.4899999666959047, 5.309999881312251, 2.4499999452382326, 0.9699999783188105, 7.869999824091792, 3.449999922886491, 9.21999979391694, 4.279999904334545, 6.149999862536788, 2.539999943226576, 1.5199999660253525, 4.25999990478158, 3.9899999108165503, 5.6099998746067286, 2.779999937862158, 1.889999957755208, 5.529999876394868, 7.1899998392909765, 1.5899999644607306, 4.599999897181988, 5.139999885112047, 12.269999725744128, 7.4299998339265585, 0.8699999805539846, 4.179999906569719, 5.479999877512455, 8.659999806433916, 3.1999999284744263, 7.6199998296797276, 2.9799999333918095, 5.019999887794256, 1.9799999557435513, 3.729999916628003, 4.049999909475446, 18.58999958448112, 2.5499999430030584, 6.989999843761325, 19.299999568611383, 4.21999990567565, 12.249999726191163, 5.8499998692423105, 15.019999664276838, 9.569999786093831, 20.55999954044819, 13.199999704957008, 0.9499999787658453, 4.799999892711639, 1.3499999698251486, 23.089999483898282, 8.629999807104468, 19.429999565705657, 21.79999951273203, 12.439999721944332, 14.439999677240849, 15.009999664500356, 14.67999967187643, 17.11999961733818, 12.729999715462327, 26.75999940186739, 10.91999975591898, 4.729999894276261, 18.489999586716294, 10.889999756589532, 27.84999937750399, 15.13999966159463, 17.059999618679285, 12.50999972037971, 12.029999731108546, 33.129999259486794, 11.509999742731452, 12.599999718368053, 3.0499999318271875, 4.739999894052744, 7.909999823197722, 39.519999116659164, 13.519999697804451, 13.039999708533287, 6.069999864324927, 6.019999865442514, 26.479999408125877, 24.149999460205436, 18.85999957844615, 31.09999930486083, 9.469999788329005, 26.669999403879046, 13.619999695569277, 10.949999755248427, 23.989999463781714, 14.01999968662858, 16.49999963119626, 37.0899991709739, 4.159999907016754, 5.359999880194664, 3.8399999141693115, 4.25999990478158, 15.359999656677246, 12.569999719038606, 28.10999937169254, 12.869999712333083, 39.15999912470579, 36.82999917678535, 11.099999751895666, 21.519999518990517, 16.169999638572335, 13.369999701157212, 24.449999453499913, 19.70999955944717, 29.43999934196472, 11.989999732002616, 21.509999519214034, 15.699999649077654, 29.599999338388443, 23.0799994841218, 2.2399999499320984, 5.929999867454171, 17.439999610185623, 19.759999558329582, 19.229999570176005, 1.9899999555200338, 33.76999924518168, 35.649999203160405, 32.549999272450805, 17.22999961487949, 10.499999765306711, 15.689999649301171, 17.03999961912632, 33.399999253451824, 29.459999341517687, 6.509999854490161, 24.58999945037067, 2.7699999380856752, 25.4899994302541, 16.4199996329844, 12.149999728426337, 18.929999576881528, 30.739999312907457, 17.92999959923327, 35.89999919757247, 32.979999262839556, 5.119999885559082, 33.68999924696982, 21.99999950826168, 24.069999461993575, 2.8899999354034662, 38.05999914929271, 1.7999999597668648, 5.549999875947833, 8.32999981380999, 38.1199991479516, 36.619999181479216, 21.969999508932233, 30.719999313354492, 29.569999339058995, 39.46999911777675, 4.25999990478158, 16.139999639242887, 32.819999266415834, 22.519999496638775, 36.31999918818474, 39.519999116659164, 17.939999599009752, 38.14999914728105, 37.84999915398657, 39.62999911420047, 23.31999947875738, 39.57999911531806, 27.52999938465655, 38.42999914102256, 10.059999775141478, 33.11999925971031, 38.709999134764075, 36.13999919220805, 14.98999966494739, 37.68999915756285, 36.32999918796122, 36.42999918572605, 39.50999911688268, 39.559999115765095, 15.21999965980649, 39.639999113976955, 36.75999917834997, 26.64999940432608, 16.14999963901937, 14.55999967455864, 39.639999113976955, 22.129999505355954, 11.899999734014273, 30.149999326094985, 37.159999169409275, 37.9499991517514, 7.1899998392909765, 31.90999928675592, 35.339999210089445, 32.99999926239252, 37.32999916560948, 30.86999931000173, 38.18999914638698, 31.87999928742647, 36.50999918393791, 37.76999915577471, 38.94999912939966, 16.56999962963164, 39.65999911352992, 39.129999125376344, 8.379999812692404, 5.4199998788535595, 35.489999206736684, 4.189999906346202, 26.249999413266778, 21.019999530166388, 37.199999168515205, 33.37999925389886, 33.13999925926328, 39.17999912425876, 36.539999183267355, 22.26999950222671, 30.35999932140112, 17.999999597668648, 36.94999917410314, 36.149999191984534, 38.8099991325289, 6.939999844878912, 38.21999914571643, 0.23999999463558197, 37.06999917142093, 38.60999913699925, 26.48999940790236, 16.159999638795853, 39.61999911442399, 35.89999919757247, 1.2099999729543924, 37.969999151304364, 39.10999912582338, 31.36999929882586, 28.38999936543405, 13.579999696463346, 37.7199991568923, 28.449999364092946, 35.569999204948545, 36.109999192878604, 19.63999956101179, 26.439999409019947, 34.88999922014773, 4.549999898299575, 24.919999442994595, 34.77999922260642, 25.75999942421913, 9.389999790117145, 32.59999927133322, 34.00999923981726, 34.81999922171235, 18.77999958023429, 37.36999916471541, 35.339999210089445, 28.34999936632812, 24.08999946154654, 34.529999228194356, 24.339999455958605, 37.29999916628003, 35.499999206513166, 36.70999917946756, 7.609999829903245, 13.959999687969685, 36.1699991915375, 32.44999927468598, 7.27999983727932, 33.399999253451824, 33.13999925926328, 38.209999145939946, 28.949999352917075, 32.95999926328659, 34.18999923579395, 35.879999198019505, 32.78999926708639, 22.8499994892627, 31.40999929793179, 32.86999926529825, 36.75999917834997, 35.38999920897186, 36.60999918170273, 38.95999912917614, 39.289999121800065, 25.879999421536922, 39.139999125152826, 3.8899999130517244, 14.55999967455864, 37.52999916113913, 24.649999449029565, 37.87999915331602, 35.08999921567738, 37.83999915421009, 39.209999123588204, 38.439999140799046, 38.789999132975936, 17.45999960973859, 38.709999134764075, 39.56999911554158, 33.96999924071133, 34.93999921903014, 16.759999625384808, 36.189999191090465, 36.25999918952584, 39.639999113976955, 9.379999790340662, 38.03999914973974, 7.759999826550484, 37.21999916806817, 39.599999114871025, 34.27999923378229, 38.24999914504588, 22.49999949708581, 36.309999188408256, 20.709999537095428, 36.7999991774559, 39.409999119117856, 28.059999372810125, 38.91999913007021, 39.07999912649393]\n"
     ]
    },
    {
     "data": {
      "image/png": "[encoded data removed]",
      "text/plain": [
       "<Figure size 432x288 with 1 Axes>"
      ]
     },
     "metadata": {
      "needs_background": "light"
     },
     "output_type": "display_data"
    }
   ],
   "source": [
    "print(avg_episode_scores)\n",
    "plot_list(avg_episode_scores)"
   ]
  },
  {
   "cell_type": "markdown",
   "metadata": {},
   "source": [
    "#### Load the weights checkpoints for the neural networks\n",
    "\n",
    "Incase you want to use the resulted weights based on visualization of the data above, please do run the cell bellow to restore the weights configurations for the actor and critic neural networks."
   ]
  },
  {
   "cell_type": "code",
   "execution_count": 14,
   "metadata": {},
   "outputs": [],
   "source": [
    "agent.actor_local.load_state_dict(torch.load('checkpoint_actor_1_agent.pth'))\n",
    "agent.critic_local.load_state_dict(torch.load('checkpoint_critic_1_agent.pth'))"
   ]
  },
  {
   "cell_type": "markdown",
   "metadata": {},
   "source": [
    "#### Play a game on trained network - Watch a smart agent\n",
    "We will play again the game using the neural network, but this time based on the trained neural networks. Now, lets watch a \"smart agent\"!"
   ]
  },
  {
   "cell_type": "code",
   "execution_count": 15,
   "metadata": {},
   "outputs": [
    {
     "name": "stdout",
     "output_type": "stream",
     "text": [
      "Final Reacher Score (averaged over 1 agents) for this episode: 36.11999919265509"
     ]
    }
   ],
   "source": [
    "play_game(random_actions=False)"
   ]
  },
  {
   "cell_type": "markdown",
   "metadata": {},
   "source": [
    "#### Terminate the Unity environment\n",
    "\n",
    "Call the `env.close` to terminate the unity environment"
   ]
  },
  {
   "cell_type": "code",
   "execution_count": 16,
   "metadata": {},
   "outputs": [],
   "source": [
    "env.close()"
   ]
  },
  {
   "cell_type": "markdown",
   "metadata": {},
   "source": [
    "### 5. Further Refinements\n",
    "\n",
    "It appears that the DDPG algorithm is heavily dependant on the hyperparameters, and even slight changes can produce way different results, especially when using the 1 Agent approach.\n",
    "\n",
    "Utilizing the PPO or A3C instead could possibly provide more stable results during training."
   ]
  }
 ],
 "metadata": {
  "kernelspec": {
   "display_name": "Python 3",
   "language": "python",
   "name": "python3"
  },
  "language_info": {
   "codemirror_mode": {
    "name": "ipython",
    "version": 3
   },
   "file_extension": ".py",
   "mimetype": "text/x-python",
   "name": "python",
   "nbconvert_exporter": "python",
   "pygments_lexer": "ipython3",
   "version": "3.6.7"
  }
 },
 "nbformat": 4,
 "nbformat_minor": 2
}
